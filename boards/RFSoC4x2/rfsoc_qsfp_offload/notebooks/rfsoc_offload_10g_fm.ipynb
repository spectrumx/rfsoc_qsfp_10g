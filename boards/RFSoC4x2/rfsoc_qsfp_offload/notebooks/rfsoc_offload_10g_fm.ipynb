{
 "cells": [
  {
   "cell_type": "code",
   "execution_count": 1,
   "id": "db1dc7f4-5d90-451a-abb5-a89a20dc418b",
   "metadata": {},
   "outputs": [
    {
     "name": "stdout",
     "output_type": "stream",
     "text": [
      "Starting FM capture at 90.100000MHz\n",
      "Initializing RFSoC QSFP Offload Overlay\n"
     ]
    },
    {
     "data": {
      "application/javascript": [
       "\n",
       "try {\n",
       "require(['notebook/js/codecell'], function(codecell) {\n",
       "  codecell.CodeCell.options_default.highlight_modes[\n",
       "      'magic_text/x-csrc'] = {'reg':[/^%%microblaze/]};\n",
       "  Jupyter.notebook.events.one('kernel_ready.Kernel', function(){\n",
       "      Jupyter.notebook.get_cells().map(function(cell){\n",
       "          if (cell.cell_type == 'code'){ cell.auto_highlight(); } }) ;\n",
       "  });\n",
       "});\n",
       "} catch (e) {};\n"
      ]
     },
     "metadata": {},
     "output_type": "display_data"
    },
    {
     "data": {
      "application/javascript": [
       "\n",
       "try {\n",
       "require(['notebook/js/codecell'], function(codecell) {\n",
       "  codecell.CodeCell.options_default.highlight_modes[\n",
       "      'magic_text/x-csrc'] = {'reg':[/^%%pybind11/]};\n",
       "  Jupyter.notebook.events.one('kernel_ready.Kernel', function(){\n",
       "      Jupyter.notebook.get_cells().map(function(cell){\n",
       "          if (cell.cell_type == 'code'){ cell.auto_highlight(); } }) ;\n",
       "  });\n",
       "});\n",
       "} catch (e) {};\n"
      ]
     },
     "metadata": {},
     "output_type": "display_data"
    }
   ],
   "source": [
    "import time\n",
    "import sys\n",
    "from rfsoc_qsfp_offload.overlay import Overlay\n",
    "\n",
    "board_ip = '192.168.4.99'\n",
    "client_ip = '192.168.4.1'\n",
    "\n",
    "print(\"Initializing RFSoC QSFP Offload Overlay\")\n",
    "ol = Overlay(ignore_version=True)\n",
    "ol.cmac.mmio.write(0x107C, 0x3) # RSFEC_CONFIG_ENABLE\n",
    "ol.cmac.mmio.write(0x1000, 0x7) # RSFEC_CONFIG_INDICATION_CORRECTION\n",
    "\n",
    "# Wait for overlay to initialize\n",
    "time.sleep(5)"
   ]
  },
  {
   "cell_type": "code",
   "execution_count": 2,
   "id": "e795eebd-d12c-4a4a-afba-4314b92b59f9",
   "metadata": {},
   "outputs": [
    {
     "name": "stdout",
     "output_type": "stream",
     "text": [
      "Network confguration complete IP: 192.168.4.99\n"
     ]
    }
   ],
   "source": [
    "# Start 100G network\n",
    "ol.cmac.start()\n",
    "res = ol.netlayer.set_ip_address(board_ip, debug=True)\n",
    "ol.netlayer.sockets[0] = (client_ip, 60133, 60133, True)\n",
    "ol.netlayer.populate_socket_table()\n",
    "print(\"Network confguration complete IP: %s\" % (res['inet addr']))\n",
    "ol.source_select(1) # Select RF ADC as packet source"
   ]
  },
  {
   "cell_type": "code",
   "execution_count": 7,
   "id": "ab78ce7e-d8ba-43a4-b7a8-62974c0aa25c",
   "metadata": {},
   "outputs": [],
   "source": [
    "f_c = 98.0                      # MHz\n",
    "ADC_TILE = 2                    # ADC Tile 226 (ADC A + B)\n",
    "ADC_BLOCK = 0                   # ADC Block 0 (ADC B)\n",
    "ADC_SAMPLE_FREQUENCY = 1024     # MSps\n",
    "ADC_PLL_FREQUENCY    = 491.52   # MHz \n",
    "ADC_FC = -1*f_c                 # Tune to center frequency\n",
    "\n",
    "# Stop packet generator if already started\n",
    "ol.packet_generator.disable()\n",
    "\n",
    "# Start ADC\n",
    "ol.initialise_adc(tile=ADC_TILE,\n",
    "                    block=ADC_BLOCK,\n",
    "                    pll_freq=ADC_PLL_FREQUENCY,\n",
    "                    fs=ADC_SAMPLE_FREQUENCY,\n",
    "                    fc=ADC_FC)\n",
    "\n",
    "# Decimate by (16x)\n",
    "ol.set_decimation(tile=ADC_TILE,block=ADC_BLOCK,sample_rate=64e6)\n",
    "\n",
    "# Set packet size\n",
    "ol.packet_generator.packetsize = 128 # 128 * 64 bytes = 8192 bytes to be sent\n",
    "ol.packet_generator.enable()\n",
    "\n",
    "print(\"Starting UDP stream\")\n",
    "        "
   ]
  },
  {
   "cell_type": "code",
   "execution_count": 5,
   "id": "66f45da3-21d0-4518-ae85-1398d1a104f4",
   "metadata": {},
   "outputs": [],
   "source": [
    "# Stop packet generator\n",
    "ol.packet_generator.disable()"
   ]
  }
 ],
 "metadata": {
  "kernelspec": {
   "display_name": "Python 3 (ipykernel)",
   "language": "python",
   "name": "python3"
  },
  "language_info": {
   "codemirror_mode": {
    "name": "ipython",
    "version": 3
   },
   "file_extension": ".py",
   "mimetype": "text/x-python",
   "name": "python",
   "nbconvert_exporter": "python",
   "pygments_lexer": "ipython3",
   "version": "3.10.4"
  }
 },
 "nbformat": 4,
 "nbformat_minor": 5
}
