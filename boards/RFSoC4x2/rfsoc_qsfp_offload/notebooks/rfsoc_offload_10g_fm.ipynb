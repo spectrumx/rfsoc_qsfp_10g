{
 "cells": [
  {
   "cell_type": "code",
   "execution_count": null,
   "id": "db1dc7f4-5d90-451a-abb5-a89a20dc418b",
   "metadata": {},
   "outputs": [],
   "source": [
    "import time\n",
    "import sys\n",
    "from rfsoc_qsfp_offload.overlay import Overlay\n",
    "\n",
    "board_ip = '192.168.4.99'\n",
    "client_ip = '192.168.4.1'\n",
    "\n",
    "print(\"Initializing RFSoC QSFP Offload Overlay\")\n",
    "ol = Overlay(bitfile_name=\"/opt/rfsoc_qsfp_10g/boards/RFSoC4x2/rfsoc_qsfp_offload/bitstream/rfsoc_offload_10g.bit\", ignore_version=True)\n",
    "#ol = Overlay(ignore_version=True)\n",
    "ol.cmac.mmio.write(0x107C, 0x3) # RSFEC_CONFIG_ENABLE\n",
    "ol.cmac.mmio.write(0x1000, 0x7) # RSFEC_CONFIG_INDICATION_CORRECTION\n",
    "\n",
    "# Wait for overlay to initialize\n",
    "time.sleep(5)"
   ]
  },
  {
   "cell_type": "code",
   "execution_count": null,
   "id": "e795eebd-d12c-4a4a-afba-4314b92b59f9",
   "metadata": {},
   "outputs": [],
   "source": [
    "# Start 100G network\n",
    "ol.cmac.start()\n",
    "res = ol.netlayer.set_ip_address(board_ip, debug=True)\n",
    "ol.netlayer.sockets[0] = (client_ip, 60133, 60133, True)\n",
    "ol.netlayer.populate_socket_table()\n",
    "print(\"Network confguration complete IP: %s\" % (res['inet addr']))"
   ]
  },
  {
   "cell_type": "code",
   "execution_count": null,
   "id": "d7e8628a-548f-46a1-8624-7aecc54e5335",
   "metadata": {},
   "outputs": [],
   "source": [
    "# Initialize ADC and start UDP stream\n",
    "f_c = 90.1                      # MHz\n",
    "ADC_TILE = 2                    # ADC Tile 226 (ADC A + B)\n",
    "ADC_BLOCK = 1                   # ADC Block 1 = ADC A, Block 0 = ADC B\n",
    "ADC_SAMPLE_FREQUENCY = 1024     # MSps\n",
    "ADC_PLL_FREQUENCY    = 491.52   # MHz \n",
    "ADC_FC = -1*f_c                 # Tune to center frequency\n",
    "\n",
    "# Select source\n",
    "adc_source = ADC_BLOCK      \n",
    "ol.adc_select(adc_source)\n",
    "\n",
    "# Stop UDP stream if already started\n",
    "ol.enable_udp(False)\n",
    "\n",
    "# Start ADC\n",
    "ol.initialise_adc(tile=ADC_TILE,\n",
    "                    block=ADC_BLOCK,\n",
    "                    pll_freq=ADC_PLL_FREQUENCY,\n",
    "                    fs=ADC_SAMPLE_FREQUENCY,\n",
    "                    fc=ADC_FC)\n",
    "\n",
    "# Decimate by (16x)\n",
    "ol.set_decimation(tile=ADC_TILE,block=ADC_BLOCK,sample_rate=64e6)\n",
    "\n",
    "# Enable UDP stream\n",
    "ol.enable_udp(True)\n",
    "\n",
    "print(\"Starting UDP stream\")\n",
    "        "
   ]
  },
  {
   "cell_type": "code",
   "execution_count": null,
   "id": "66f45da3-21d0-4518-ae85-1398d1a104f4",
   "metadata": {},
   "outputs": [],
   "source": [
    "# Stop packet generator\n",
    "ol.enable_udp(False)"
   ]
  }
 ],
 "metadata": {
  "kernelspec": {
   "display_name": "Python 3 (ipykernel)",
   "language": "python",
   "name": "python3"
  },
  "language_info": {
   "codemirror_mode": {
    "name": "ipython",
    "version": 3
   },
   "file_extension": ".py",
   "mimetype": "text/x-python",
   "name": "python",
   "nbconvert_exporter": "python",
   "pygments_lexer": "ipython3",
   "version": "3.10.4"
  }
 },
 "nbformat": 4,
 "nbformat_minor": 5
}
