{
 "cells": [
  {
   "cell_type": "markdown",
   "id": "fe868f08-167c-4a3e-ab6d-67f46c934de6",
   "metadata": {},
   "source": [
    "# 10G Ethernet core example\n",
    "References:\n",
    "\n",
    "https://github.com/Xilinx/embeddedsw/blob/master/XilinxProcessorIPLib/drivers/xxvethernet/src/xxxvethernet.c\n",
    "https://docs.amd.com/r/en-US/pg210-25g-ethernet/Configuration-Register-Map-10G/25G-Ethernet-Subsystem"
   ]
  },
  {
   "cell_type": "code",
   "execution_count": null,
   "id": "db1dc7f4-5d90-451a-abb5-a89a20dc418b",
   "metadata": {},
   "outputs": [],
   "source": [
    "import time\n",
    "import sys\n",
    "from rfsoc_qsfp_offload.overlay import Overlay\n",
    "\n",
    "print(\"Initializing RFSoC 10G Ethernet Offload Overlay\")\n",
    "#ol = Overlay(ignore_version=True)\n",
    "ol = Overlay(bitfile_name=\"/opt/bitstream/rfsoc_offload_10g_adc_2ch_5.bit\",ignore_version=True)\n",
    "\n",
    "\n",
    "# Wait for overlay to initialize\n",
    "print(\"Waiting 5 sec for overlay to initialize\")\n",
    "time.sleep(5)\n",
    "print(\"Initialized\")"
   ]
  },
  {
   "cell_type": "markdown",
   "id": "11ba17d0-e82d-47fc-af4b-7cc428ebf2de",
   "metadata": {},
   "source": [
    "## Set ADC sample rate and center frequency"
   ]
  },
  {
   "cell_type": "code",
   "execution_count": null,
   "id": "b85e6878-94e5-436a-b9f8-c05793225311",
   "metadata": {},
   "outputs": [],
   "source": [
    "import xrfdc\n",
    "import xrfclk\n",
    "\n",
    "# # Set Reference clocks\n",
    "# lmk_freq=245.76 \n",
    "# lmx_freq=491.52\n",
    "# xrfclk.set_ref_clks(lmk_freq=lmk_freq, lmx_freq=lmx_freq)\n",
    "\n",
    "ADC_TILE = 2       # ADC Tile 226\n",
    "ADC_BLOCK = 0       # ADC Block 0\n",
    "#ADC_SAMPLE_FREQUENCY = 1228.8  # MSps\n",
    "ADC_SAMPLE_FREQUENCY = 1024  # MSps, default is 16x decimation\n",
    "ADC_DECIMATION = 16 # Default, not actively set\n",
    "ADC_PLL_FREQUENCY    = 491.52   # MHz\n",
    "ADC_FC = -1*93.3 # FM Band\n",
    "\n",
    "pll_freq = ADC_PLL_FREQUENCY\n",
    "fs = ADC_SAMPLE_FREQUENCY\n",
    "tile = ADC_TILE\n",
    "block=ADC_BLOCK\n",
    "fc = ADC_FC\n",
    "\n",
    "mixer_settings = {\n",
    "            'CoarseMixFreq':  xrfdc.COARSE_MIX_BYPASS,\n",
    "            'EventSource':    xrfdc.EVNT_SRC_TILE,\n",
    "            'FineMixerScale': xrfdc.MIXER_SCALE_1P0,\n",
    "            'Freq':           fc,\n",
    "            'MixerMode':      xrfdc.MIXER_MODE_R2C,\n",
    "            'MixerType':      xrfdc.MIXER_TYPE_FINE,\n",
    "            'PhaseOffset':    0.0\n",
    "        }\n",
    "\n",
    "block = 0\n",
    "ol.rfdc.adc_tiles[tile].DynamicPLLConfig(1, pll_freq, fs)\n",
    "ol.rfdc.adc_tiles[tile].blocks[block].NyquistZone = 1\n",
    "ol.rfdc.adc_tiles[tile].blocks[block].MixerSettings = mixer_settings\n",
    "ol.rfdc.adc_tiles[tile].blocks[block].UpdateEvent(xrfdc.EVENT_MIXER)\n",
    "ol.rfdc.adc_tiles[tile].SetupFIFO(True)\n",
    "\n",
    "block = 1\n",
    "ol.rfdc.adc_tiles[tile].DynamicPLLConfig(1, pll_freq, fs)\n",
    "ol.rfdc.adc_tiles[tile].blocks[block].NyquistZone = 1\n",
    "ol.rfdc.adc_tiles[tile].blocks[block].MixerSettings = mixer_settings\n",
    "ol.rfdc.adc_tiles[tile].blocks[block].UpdateEvent(xrfdc.EVENT_MIXER)\n",
    "ol.rfdc.adc_tiles[tile].SetupFIFO(True)\n"
   ]
  },
  {
   "cell_type": "code",
   "execution_count": null,
   "id": "b8c3dafa",
   "metadata": {},
   "outputs": [],
   "source": [
    "# Set UDP header to the sample frequency (denominator is already set to 16x)\n",
    "ol.adc_to_udp_stream_A.register_map.SAMPLE_RATE_NUMERATOR_LSB = ADC_SAMPLE_FREQUENCY * 1e6\n",
    "ol.adc_to_udp_stream_B.register_map.SAMPLE_RATE_NUMERATOR_LSB = ADC_SAMPLE_FREQUENCY * 1e6"
   ]
  },
  {
   "cell_type": "markdown",
   "id": "84466231-45ff-4cf2-8371-e2f677cee334",
   "metadata": {},
   "source": [
    "## Example Configuration Code\n",
    "### Configure XXV Ethernet Core"
   ]
  },
  {
   "cell_type": "code",
   "execution_count": null,
   "id": "b8827fcd-9b20-409e-a9db-d3203d6a9572",
   "metadata": {},
   "outputs": [],
   "source": [
    "# Stop UDP Stream\n",
    "ol.adc_to_udp_stream_A.register_map.USER_RESET = 1\n",
    "ol.adc_to_udp_stream_B.register_map.USER_RESET = 1\n",
    "\n",
    "# Reset Ethernet core\n",
    "eth_mmio = ol.xxv_ethernet_0.mmio\n",
    "reg_map = ol.xxv_ethernet_0.register_map\n",
    "tx_cfg_reg = reg_map.CONFIGURATION_TX_REG1\n",
    "rx_cfg_reg = reg_map.CONFIGURATION_RX_REG1\n",
    "\n",
    "# Stop Ethernet reciever \n",
    "tx_cfg_reg.ctl_tx_enable = 0\n",
    "rx_cfg_reg.ctl_rx_enable = 0\n",
    "\n",
    "reg_map.RESET_REG.tx_reset = 1\n",
    "reg_map.RESET_REG.tx_serdes_reset = 1\n",
    "reg_map.RESET_REG.rx_reset = 1\n",
    "reg_map.RESET_REG.rx_serdes_reset = 1\n",
    "\n",
    "print(f\"TX Configuration: {tx_cfg_reg}\")\n",
    "print(f\"RX Configuration: {rx_cfg_reg}\")"
   ]
  },
  {
   "cell_type": "code",
   "execution_count": null,
   "id": "937a2d43-3bb9-45c8-a18e-d916822f2136",
   "metadata": {},
   "outputs": [],
   "source": [
    "# Set Ethernet core TX configration\n",
    "tx_cfg_reg.ctl_tx_enable = 0\n",
    "reg_map.RESET_REG.tx_reset = 1\n",
    "\n",
    "# Enable FCS insertion by the TX core. If this bit is set to 0,\n",
    "# the core does not add FCS to packet. If this bit is set to\n",
    "# 1, the core calculates and adds the FCS to the packet.\n",
    "# This input cannot be changed dynamically between\n",
    "# packets.\n",
    "tx_cfg_reg.ctl_tx_fcs_ins_enable = 1\n",
    "\n",
    "# Enable FCS error checking at the AXI4-Stream interface\n",
    "# by the TX core. This input only has effect when\n",
    "# ctl_tx_fcs_ins_enable is Low. If this input is Low and a\n",
    "# packet with bad FCS is being transmitted, it is not\n",
    "# binned as good. If this input is High, a packet with bad\n",
    "# FCS is binned as good.\n",
    "tx_cfg_reg.ctl_tx_ignore_fcs = 0\n",
    "\n",
    "# Transmit Idle code words. If this input is sampled as a 1,\n",
    "# the TX path only transmits Idle code words. This input\n",
    "# should be set to 1 when the partner device is sending\n",
    "# RFI code words.\n",
    "tx_cfg_reg.ctl_tx_send_idle = 0 \n",
    "\n",
    "# Parity error response by the TX Core. If this bit is set to\n",
    "# 0, the core does not take any action if any parity errors\n",
    "# are detected. If this bit is set to 1, the core stomps the\n",
    "# outgoing FCS (i.e., bit-wise inverse) and asserts\n",
    "# stat_tx_bad_fcs.\n",
    "tx_cfg_reg.ctl_tx_parity_err_response = 0\n",
    "\n",
    "reg_map.RESET_REG.tx_reset = 0\n",
    "reg_map.RESET_REG.tx_serdes_reset = 0\n",
    "reg_map.RESET_REG.rx_reset = 0\n",
    "reg_map.RESET_REG.rx_serdes_reset = 0\n",
    "\n",
    "tx_cfg_reg.ctl_tx_enable = 1\n",
    "print(\"Transmit enabled\")\n",
    "\n",
    "rx_cfg_reg.ctl_rx_enable = 1\n",
    "print(\"Receive enabled\")\n",
    "\n",
    "# Ethernet core TX status register\n",
    "print(f\"TX_CFG_REG: {tx_cfg_reg}\")"
   ]
  },
  {
   "cell_type": "code",
   "execution_count": null,
   "id": "bb7898c4",
   "metadata": {},
   "outputs": [],
   "source": [
    "\n",
    "# Set starting sample\n",
    "start_time = time.time()\n",
    "samples_since_epoch = int(start_time * (ADC_SAMPLE_FREQUENCY / ADC_DECIMATION))\n",
    "samples_since_epoch_lsb = samples_since_epoch & 0xFFFFFFFF\n",
    "samples_since_epoch_msb = samples_since_epoch >> 32\n",
    "ol.adc_to_udp_stream_A.register_map.SAMPLE_IDX_OFFSET_LSB = samples_since_epoch_lsb\n",
    "ol.adc_to_udp_stream_A.register_map.SAMPLE_IDX_OFFSET_MSB = samples_since_epoch_msb\n",
    "ol.adc_to_udp_stream_B.register_map.SAMPLE_IDX_OFFSET_LSB = samples_since_epoch_lsb\n",
    "ol.adc_to_udp_stream_B.register_map.SAMPLE_IDX_OFFSET_MSB = samples_since_epoch_msb\n",
    "\n",
    "# Start UDP Stream\n",
    "ol.adc_to_udp_stream_A.register_map.USER_RESET = 0\n",
    "ol.adc_to_udp_stream_B.register_map.USER_RESET = 0"
   ]
  },
  {
   "cell_type": "markdown",
   "id": "bd407222-d91b-4044-8b59-91a247b8225e",
   "metadata": {},
   "source": [
    "### Set MAC address"
   ]
  },
  {
   "cell_type": "code",
   "execution_count": null,
   "id": "bc2961c3-ffb6-46ce-b0c5-098337450733",
   "metadata": {},
   "outputs": [],
   "source": [
    "print(\"Default Dest MAC MSB: %08X\" % ol.adc_to_udp_stream_A.register_map.ETH_DST_MAC_MSB)\n",
    "print(\"Default Dest MAC LSB: %08X\" % ol.adc_to_udp_stream_A.register_map.ETH_DST_MAC_LSB)\n",
    "# Set Destination MAC to MEP-B09E: 6c:92:bf:42:52:12\n",
    "# Header is updated on MSB write, writes must be in order\n",
    "#ol.udp_stream_0.register_map.ETH_DST_MAC_LSB = 0x6c92bf42\n",
    "#ol.udp_stream_0.register_map.ETH_DST_MAC_MSB = 0x00005212\n",
    "\n",
    "#ol.adc_to_udp_stream_0.register_map.ETH_DST_MAC_LSB = 0xbf425212\n",
    "#ol.adc_to_udp_stream_0.register_map.ETH_DST_MAC_MSB = 0x00006c92\n",
    "\n",
    "# Set Destination MAC to broadcast: ff:ff:ff:ff:ff:ff\n",
    "#ol.udp_stream_0.register_map.ETH_DST_MAC_LSB = 0xffffffff\n",
    "#ol.udp_stream_0.register_map.ETH_DST_MAC_MSB = 0x0000ffff\n",
    "\n",
    "#print(\"New Dest MAC MSB    : %08X\" % ol.adc_to_udp_stream_0.register_map.ETH_DST_MAC_MSB)\n",
    "#print(\"New Dest MAC LSB    : %08X\" % ol.adc_to_udp_stream_0.register_map.ETH_DST_MAC_LSB)"
   ]
  },
  {
   "cell_type": "markdown",
   "id": "4e8545da-d73f-4e3c-b3b3-b5916966941a",
   "metadata": {},
   "source": [
    "### Check 10G Ethernet core statistics"
   ]
  },
  {
   "cell_type": "code",
   "execution_count": null,
   "id": "38abc8f6-4a04-415e-ab3e-465753f69059",
   "metadata": {},
   "outputs": [],
   "source": [
    "# Capture statistics\n",
    "import time\n",
    "reg_map.TICK_REG = 1\n",
    "time.sleep(5)\n",
    "reg_map.TICK_REG =1 \n",
    "print(\"Packets          : %s %s\" % (str(reg_map.STAT_TX_TOTAL_PACKETS_MSB),str(reg_map.STAT_TX_TOTAL_PACKETS_LSB)))\n",
    "print(\"Good Packets     : %s %s\" % (str(reg_map.STAT_TX_TOTAL_GOOD_PACKETS_MSB),str(reg_map.STAT_TX_TOTAL_GOOD_PACKETS_LSB)))\n",
    "print(\"Small Packets    : %s %s\" % (str(reg_map.STAT_TX_PACKET_SMALL_MSB),str(reg_map.STAT_TX_PACKET_SMALL_LSB)))\n",
    "print(\"Large Packets    : %s %s\" % (str(reg_map.STAT_TX_PACKET_LARGE_MSB),str(reg_map.STAT_TX_PACKET_LARGE_LSB)))\n",
    "print(\"64               : %s %s\" % (str(reg_map.STAT_TX_PACKET_64_BYTES_MSB),str(reg_map.STAT_TX_PACKET_64_BYTES_LSB)))\n",
    "print(\"65-127           : %s %s\" % (str(reg_map.STAT_TX_PACKET_65_127_BYTES_MSB),str(reg_map.STAT_TX_PACKET_65_127_BYTES_LSB)))\n",
    "print(\"256-511          : %s %s\" % (str(reg_map.STAT_TX_PACKET_256_511_BYTES_MSB),str(reg_map.STAT_TX_PACKET_256_511_BYTES_LSB)))\n",
    "print(\"512-1023         : %s %s\" % (str(reg_map.STAT_TX_PACKET_512_1023_BYTES_MSB),str(reg_map.STAT_TX_PACKET_512_1023_BYTES_LSB)))\n",
    "print(\"1024-1518        : %s %s\" % (str(reg_map.STAT_TX_PACKET_1024_1518_BYTES_MSB),str(reg_map.STAT_TX_PACKET_1024_1518_BYTES_LSB)))\n",
    "print(\"Total bytes      : %s %s\" % (str(reg_map.STAT_TX_TOTAL_BYTES_MSB),str(reg_map.STAT_TX_TOTAL_BYTES_LSB)))\n",
    "print(\"Good bytes       : %s %s\" % (str(reg_map.STAT_TX_TOTAL_GOOD_BYTES_MSB),str(reg_map.STAT_TX_TOTAL_GOOD_BYTES_LSB)))\n",
    "print(\"FIFO Error       : %s %s\" % (str(reg_map.STAT_TX_FRAME_ERROR_MSB),str(reg_map.STAT_TX_FRAME_ERROR_LSB)))\n",
    "print(\"Frame Error      : %s %s\" % (str(reg_map.STAT_TX_FRAME_ERROR_MSB),str(reg_map.STAT_TX_FRAME_ERROR_LSB)))\n",
    "print(\"FCS   Error      : %s %s\" % (str(reg_map.STAT_TX_BAD_FCS_MSB),str(reg_map.STAT_TX_BAD_FCS_LSB)))\n",
    "print(\"Unicast Packets  : %s %s\" % (str(reg_map.STAT_TX_UNICAST_MSB),str(reg_map.STAT_TX_UNICAST_LSB)))\n",
    "print(\"Multicast Packets: %s %s\" % (str(reg_map.STAT_TX_MULTICAST_MSB),str(reg_map.STAT_TX_MULTICAST_LSB)))\n",
    "print(\"Broadcast Packets: %s %s\" % (str(reg_map.STAT_TX_BROADCAST_MSB),str(reg_map.STAT_TX_BROADCAST_LSB)))\n",
    "\n",
    "print(\"Bad FCS          : %s %s\" % (str(reg_map.STAT_TX_BAD_FCS_MSB),str(reg_map.STAT_TX_BAD_FCS_LSB)))\n",
    "print(\"Bad Frame        : %s %s\" % (str(reg_map.STAT_TX_FRAME_ERROR_MSB),str(reg_map.STAT_TX_FRAME_ERROR_LSB)))"
   ]
  },
  {
   "cell_type": "markdown",
   "id": "3a27d7dc-c823-45e0-8eae-de5698d046ef",
   "metadata": {},
   "source": [
    "### UDP Streaming core stats"
   ]
  },
  {
   "cell_type": "code",
   "execution_count": null,
   "id": "65b03830-68a5-451c-b03e-3b8327389ed8",
   "metadata": {},
   "outputs": [],
   "source": [
    "ol.adc_to_udp_stream_A.register_map.RECEIVED_COUNTER"
   ]
  },
  {
   "cell_type": "code",
   "execution_count": null,
   "id": "77b0dcf1-620d-482f-8698-5b496b57fb50",
   "metadata": {},
   "outputs": [],
   "source": [
    "rx_buff_cnt = int(ol.adc_to_udp_stream_0.register_map.FULL_BUFFER_COUNTER)\n",
    "tx_sent_cnt = int(ol.adc_to_udp_stream_0.register_map.SENT_COUNTER)\n",
    "rx_cnt = rx_buff_cnt\n",
    "tx_cnt = tx_sent_cnt\n",
    "print(f\"Received: {rx_cnt:.04e} Sent: {tx_cnt:.04e}\")\n",
    "# rx_cnt / tx_cnt"
   ]
  },
  {
   "cell_type": "code",
   "execution_count": null,
   "id": "07ece7b1-e63d-47c4-a10f-ddd78b4623cf",
   "metadata": {},
   "outputs": [],
   "source": [
    "rx_buff_cnt = int(ol.adc_to_udp_stream_A.register_map.FULL_BUFFER_COUNTER)\n",
    "tx_sent_cnt = int(ol.adc_to_udp_stream_A.register_map.SENT_COUNTER)\n",
    "rx_cnt = rx_buff_cnt\n",
    "tx_cnt = tx_sent_cnt\n",
    "print(f\"Received: {rx_cnt:.04e} Sent: {tx_cnt:.04e}\")\n",
    "# rx_cnt / tx_cnt"
   ]
  },
  {
   "cell_type": "code",
   "execution_count": null,
   "id": "04ea3d34-8ba3-40d7-b15d-fc92b07ba16e",
   "metadata": {},
   "outputs": [],
   "source": [
    "ol.adc_to_udp_stream_A.register_map.SENT_COUNTER"
   ]
  },
  {
   "cell_type": "code",
   "execution_count": null,
   "id": "06f585ca-79d4-48cb-9fcf-5f9e9a9307d3",
   "metadata": {},
   "outputs": [],
   "source": [
    "for ii in range(0,16):\n",
    " print(f\"{hex(ol.adc_to_udp_stream_A.register_map.AXIS_STATUS)}\")"
   ]
  },
  {
   "cell_type": "markdown",
   "id": "3895293d-fd17-4216-8424-a43321eb6859",
   "metadata": {},
   "source": [
    "### Configure UDP Streaming core\n",
    "Stop here if using default values, configuration changes may break stream to receiving devices\n",
    "\n",
    "Enable USER_RESET before changing any configuration values"
   ]
  },
  {
   "cell_type": "code",
   "execution_count": null,
   "id": "e01523ce-2fbb-461f-87ad-5cdbb9282efd",
   "metadata": {},
   "outputs": [],
   "source": [
    "print(\"Default Destination IP: %08X\" % ol.adc_to_udp_stream_A.register_map.IP_DST_ADDR)\n",
    "#192.168.4.1 (default)\n",
    "ol.adc_to_udp_stream_0.register_map.IP_DST_ADDR = 0xc0A80401\n",
    "print(\"New Destination IP    : %08X\" % ol.adc_to_udp_stream_A.register_map.IP_DST_ADDR)"
   ]
  },
  {
   "cell_type": "code",
   "execution_count": null,
   "id": "d80de230-bbf8-4fca-9f1f-a015bd2e1891",
   "metadata": {},
   "outputs": [],
   "source": [
    "print(\"Default Source IP: %08X\" % ol.adc_to_udp_stream_B.register_map.IP_SRC_ADDR)\n",
    "#192.168.4.8\n",
    "ol.adc_to_udp_stream_B.register_map.IP_SRC_ADDR = 0xc0A80408\n",
    "print(\"New Source IP    : %08X\" % ol.adc_to_udp_stream_B.register_map.IP_SRC_ADDR)\n"
   ]
  },
  {
   "cell_type": "code",
   "execution_count": null,
   "id": "716c3b24-a1da-4f5f-be68-2ca19ee3cf1f",
   "metadata": {},
   "outputs": [],
   "source": [
    "print(\"Default Source PORT: %08X\" % ol.adc_to_udp_stream_A.register_map.IP_SRC_PORT)\n",
    "#1020\n",
    "ol.adc_to_udp_stream_A.register_map.IP_SRC_PORT = 10\n",
    "print(\"New Source PORT    : %08X\" % ol.adc_to_udp_stream_A.register_map.IP_SRC_PORT)\n"
   ]
  },
  {
   "cell_type": "code",
   "execution_count": null,
   "id": "77d5baa1-6eed-45a3-8ecb-15562c290d04",
   "metadata": {},
   "outputs": [],
   "source": [
    "# 5-bit address bus?\n",
    "print(\"Default Destination PORT: %08X\" % ol.udp_stream_A.register_map.IP_DST_PORT)\n",
    "#1020\n",
    "ol.udp_stream_0.register_map.IP_DST_PORT = 1021\n",
    "print(\"New Destination PORT    : %08X\" % ol.udp_stream_A.register_map.IP_DST_PORT)\n"
   ]
  },
  {
   "cell_type": "code",
   "execution_count": null,
   "id": "1acf1d78-2c33-4ec8-a034-c534cb43957e",
   "metadata": {},
   "outputs": [],
   "source": [
    "ol.adc_to_udp_stream_A.register_map.USER_RESET = 1\n",
    "ol.adc_to_udp_stream_B.register_map.USER_RESET = 1"
   ]
  },
  {
   "cell_type": "code",
   "execution_count": null,
   "id": "396d9318-f200-424c-bb36-94eb9533afe2",
   "metadata": {},
   "outputs": [],
   "source": [
    "print(f\"A Reset: {ol.adc_to_udp_stream_A.register_map.USER_RESET}\")\n",
    "print(f\"B Reset: {ol.adc_to_udp_stream_B.register_map.USER_RESET}\")"
   ]
  },
  {
   "cell_type": "markdown",
   "id": "dbccdbef-8925-4c82-afde-e7850a9f18b8",
   "metadata": {},
   "source": [
    "### Enable ADCs A and B"
   ]
  },
  {
   "cell_type": "code",
   "execution_count": null,
   "id": "76d19db8-c299-4993-a5a6-1aaa482a6d30",
   "metadata": {},
   "outputs": [],
   "source": [
    "ol.adc_to_udp_stream_A.register_map.USER_RESET = 0\n",
    "ol.adc_to_udp_stream_B.register_map.USER_RESET = 0"
   ]
  }
 ],
 "metadata": {
  "kernelspec": {
   "display_name": "Python 3 (ipykernel)",
   "language": "python",
   "name": "python3"
  },
  "language_info": {
   "codemirror_mode": {
    "name": "ipython",
    "version": 3
   },
   "file_extension": ".py",
   "mimetype": "text/x-python",
   "name": "python",
   "nbconvert_exporter": "python",
   "pygments_lexer": "ipython3",
   "version": "3.10.4"
  }
 },
 "nbformat": 4,
 "nbformat_minor": 5
}
