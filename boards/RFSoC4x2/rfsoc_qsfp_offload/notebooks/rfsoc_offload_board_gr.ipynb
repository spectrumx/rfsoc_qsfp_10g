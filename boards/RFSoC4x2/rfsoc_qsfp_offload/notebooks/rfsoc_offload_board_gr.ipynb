{
 "cells": [
  {
   "cell_type": "markdown",
   "id": "53d5161b-28e9-4acc-83cf-70b89ac7aade",
   "metadata": {},
   "source": [
    "# RFSoC Offload Overlay\n",
    "## Board Notebook\n",
    "\n",
    "---\n",
    "<div class=\"alert alert-box alert-info\">\n",
    "Please use Jupyter labs http://board_ip_address/lab for this notebook.\n",
    "</div>\n",
    "\n",
    "## Overview\n",
    "> The RFSoC offload overlay features high-speed data transfer between the RFSoC4x2 board and a computer via the QSFP28 port. QSFP28 allows speeds up to 100 Gbps which enables data to be transferred and processed off-device directly from the RF-ADCs at RF data rates. The offload overlay also contains a data switch and a PS to PL DMA allowing custom payloads to be sent from \n",
    "the boards OS to the client. Figure 1 shows a high level overview diagram of the RFSoC4x2 offload overlay.\n",
    "\n",
    "\n",
    "<figure>\n",
    "<img src='./assets/rfsoc_offload_arch.svg' width='80%'/>\n",
    "<figcaption><b>Figure 1: The architecture overview of the RFSoC offload design.</b></figcaption>\n",
    "</figure>\n",
    "\n",
    "## Aims\n",
    "* To introduce the RFSoC offload overlay.\n",
    "* To send RF ADC data from the RFSoC to the PC/Client using QSFP.\n",
    "* To send data generated in PS to the PC/Client using QSFP.\n",
    "\n",
    "## Last Revised\n",
    "* 08/07/22 - Updated code and text\n",
    "* 30/06/22 - Initial revision\n",
    "---\n",
    "\n",
    "## Hardware Setup\n",
    "For this demonstration, your RFSoC4x2 development board should be connected in loopback, with DAC B connected to ADC B. The DAC can be used to send test signals to the ADC using a signal generator.\n",
    "\n",
    "* Connect DAC B to ADC A, as shown in Figure 2.\n",
    "* Install the QSFP network interface card in your PC and setup the neccessery drivers*.\n",
    "* Insert the optical transceiver modules to the RFSoC4x2 board and the PCs QSFP network card.\n",
    "* Insert the fiber optic cable to both optical transceiver modules.\n",
    "\n",
    "\\* Refer to the project README for more extensive hardware & driver setup.\n",
    "\n",
    "<figure>\n",
    "<img src='./assets/hw_setup.svg' width='70%'/>\n",
    "<figcaption><b>Figure 2: Hardware setup for RFSoC data offload to PC .</b></figcaption>\n",
    "</figure>\n",
    "\n",
    "Make sure the switches on RFSoC 4x2 are set to:\n",
    "* PL_SW3 - Off\n",
    "* PL_SW2 - Off\n",
    "* PL_SW1 - Off\n",
    "* PL_SW0 - On\n",
    "\n",
    "As shown in Figure 3\n",
    "\n",
    "<figure>\n",
    "<img src='./assets/rfsoc_switches.png' height='80%' width='80%'/>\n",
    "<figcaption><b>Figure 3: RFSoC4x2 hardware switch configuration. .</b></figcaption>\n",
    "</figure>\n",
    "\n",
    "<div class=\"alert alert-heading alert-danger\">\n",
    "<b>Warning:</b> In this demo signals are transmitted via SMA cables. This device can also transmit wireless signals. Unlicensed transmission of wireless signals may be illegal in your location. Radio signals may also interfere with nearby devices, such as pacemakers and emergency radio equipment. If you are unsure, please seek professional support.\n",
    "</div>\n",
    "\n",
    "---"
   ]
  },
  {
   "cell_type": "markdown",
   "id": "5f7d15f3-2d00-4dc1-b6e8-e9a4f0a8904d",
   "metadata": {},
   "source": [
    "This overlay requires two notebooks to operate: a board notebook (this one), to be run on the RFSoC board, and a client notebook, which must be run on the PC/server that is connected to the board via the QSFP28 connection.\n",
    "\n",
    "Before we start, make sure to download the `rfsoc_offload_client.ipynb` notebook supplied with this overlay, and open it on your client computer with Jupyter-Lab. Additionally, a QSFP setup script is supplied, `qsfp_setup.sh`, that will help configure the Mellanox NIC and, if required, should be downloaded onto the client computer as well.\n",
    "\n",
    "We will be jumping between the board and client notebooks throughout this example, so it is best to have them both open in separate browser windows. In this notebook any commands that are required to be run on the client side will be preceded by an <span style=\"color:orange\">**orange**</span> alert box, while any commands to be run on the board will be preceded by a <span style=\"color:green\">**green**</span> alert box. All main section headings are identical between board and client notebooks and are numbered to make it easier to follow through the different steps.\n",
    "\n",
    "---\n",
    "\n",
    "<div class=\"alert alert-box alert-success\">\n",
    "The following steps are to be executed on the board.\n",
    "</div> \n",
    "\n",
    "## 1. Board Setup\n",
    "\n",
    "First we need to download the overlay to the PL"
   ]
  },
  {
   "cell_type": "code",
   "execution_count": null,
   "id": "06c6187f-923d-4ac1-a21f-6cffd5e6f800",
   "metadata": {},
   "outputs": [],
   "source": [
    "from rfsoc_qsfp_offload.overlay import Overlay\n",
    "ol = Overlay(ignore_version=True)"
   ]
  },
  {
   "cell_type": "markdown",
   "id": "673208ac-7c55-458b-bf0d-d09487406274",
   "metadata": {},
   "source": [
    "### Configure CMAC\n",
    "\n",
    "The CMAC IP encapsulates the UltraScale+ Integrated 100G Ethernet Subsystem and provides Ethernet Media Access Controller (MAC), Physical Coding Sublayer (PCS) and Reed-Solomon Forward Error Correction (RS-FEC) functionality.\n",
    "\n",
    "First of all we need to turn on the Forward Error Correction on the CMAC. To do this we set a couple of registers using MMIO."
   ]
  },
  {
   "cell_type": "code",
   "execution_count": null,
   "id": "23b52c7b-43a3-4876-919c-9b932b9ee49e",
   "metadata": {},
   "outputs": [],
   "source": [
    "ol.cmac.mmio.write(0x107C, 0x3) # RSFEC_CONFIG_ENABLE\n",
    "ol.cmac.mmio.write(0x1000, 0x7) # RSFEC_CONFIG_INDICATION_CORRECTION"
   ]
  },
  {
   "cell_type": "markdown",
   "id": "3cc97125-788d-4dcb-83be-d851df8f1639",
   "metadata": {},
   "source": [
    "Then we can start the Xilinx 100 GbE CMAC core."
   ]
  },
  {
   "cell_type": "code",
   "execution_count": null,
   "id": "68c0529b-5694-4258-8762-70677c08b620",
   "metadata": {},
   "outputs": [],
   "source": [
    "ol.cmac.start()"
   ]
  },
  {
   "cell_type": "markdown",
   "id": "dc8286f2-0b66-4c2b-95d4-e0d2f0d9e36a",
   "metadata": {},
   "source": [
    "---\n",
    "\n",
    "<div class=\"alert alert-box alert-warning\">\n",
    "The following steps are required to be executed on the client.\n",
    "</div> \n",
    "\n",
    "## 2. Client Setup\n",
    "\n",
    "Follow the instructions in the client notebook to set up the QSFP network settings.\n",
    "\n",
    "---"
   ]
  },
  {
   "cell_type": "markdown",
   "id": "d43a4722-3b10-46d2-b1db-275302fc9d62",
   "metadata": {},
   "source": [
    "<div class=\"alert alert-box alert-success\">\n",
    "The following steps are to be executed on the board.\n",
    "</div> \n",
    "\n",
    "## 3. Configuring the Overlay\n",
    "\n",
    "### Setup Netlayer IP\n",
    "\n",
    "The Netlayer IP converts axi stream data into UDP packets and allows talking to other network devices.\n",
    "To learn more about Netlayer IP refer to [XUP Vitis Network example README](https://github.com/Xilinx/xup_vitis_network_example).\n",
    "\n",
    "First we setup the QSFP IP address for the board."
   ]
  },
  {
   "cell_type": "code",
   "execution_count": null,
   "id": "8f4d9e69-ae3c-4b68-bba4-6a3b173278de",
   "metadata": {},
   "outputs": [],
   "source": [
    "board_ip = '192.168.4.99'\n",
    "ol.netlayer.set_ip_address(board_ip, debug=True)"
   ]
  },
  {
   "cell_type": "markdown",
   "id": "9def3fc9-0aa9-4f54-a97e-6cb5d0ad191c",
   "metadata": {},
   "source": [
    "Next we set up a socket and populate the socket table with the relevant information."
   ]
  },
  {
   "cell_type": "code",
   "execution_count": null,
   "id": "4fb621a4-d04b-46a2-88d3-712146e6e2f2",
   "metadata": {},
   "outputs": [],
   "source": [
    "client_ip = '192.168.4.1'\n",
    "ol.netlayer.sockets[0] = (client_ip, 60133, 60133, True)\n",
    "\n",
    "ol.netlayer.populate_socket_table()"
   ]
  },
  {
   "cell_type": "markdown",
   "id": "cfc732ca-7db1-487f-9666-828c4cd2d86e",
   "metadata": {},
   "source": [
    "### Set Data Source\n",
    "\n",
    "This design allows for data to be sent aross the QSFP network from either the RF-ADC, or sent directly from the PS. An AXI Stream switch facilitates this functionality.\n",
    "\n",
    "Choose the data source to be sent over the QSFP network.\n",
    "\n",
    "* 0 - Data from the PS to PL DMA\n",
    "* 1 - Data acquired from RF-ADC"
   ]
  },
  {
   "cell_type": "markdown",
   "id": "81b26067-7c93-4835-bc59-5669b630b97f",
   "metadata": {},
   "source": [
    "Set the data source as RF-ADC."
   ]
  },
  {
   "cell_type": "code",
   "execution_count": null,
   "id": "f40b910d-8cb4-4145-ab20-ca81e69f8fbb",
   "metadata": {},
   "outputs": [],
   "source": [
    "ol.source_select(1) # 0 - DMA | 1 - RF-ADC"
   ]
  },
  {
   "cell_type": "markdown",
   "id": "a053ef8a-be92-4b36-a341-82d0e691406b",
   "metadata": {},
   "source": [
    "### Setup the RF Data Converters\n",
    "\n",
    "Since we're sending data sent from the RF-DAC and received from the RF-ADC, we need to configure the RF data converters.\n",
    "\n",
    "First we configure the RF-ADC channel."
   ]
  },
  {
   "cell_type": "code",
   "execution_count": null,
   "id": "1141861a-2485-46c2-96bf-5224395e865b",
   "metadata": {},
   "outputs": [],
   "source": [
    "ADC_TILE = 2       # ADC Tile 226\n",
    "ADC_BLOCK = 0       # ADC Block 0\n",
    "ADC_SAMPLE_FREQUENCY = 4915.2  # MSps\n",
    "ADC_PLL_FREQUENCY    = 491.52   # MHz\n",
    "ADC_FC = -800 # Centering around middle of sample rate\n",
    "\n",
    "ol.initialise_adc(tile=ADC_TILE,\n",
    "                  block=ADC_BLOCK,\n",
    "                  pll_freq=ADC_PLL_FREQUENCY,\n",
    "                  fs=ADC_SAMPLE_FREQUENCY,\n",
    "                  fc=ADC_FC)"
   ]
  },
  {
   "cell_type": "markdown",
   "id": "0c4cdb1c-14d7-4d6e-966e-0ad175762c5a",
   "metadata": {},
   "source": [
    "Then we configure the RF-DAC channel."
   ]
  },
  {
   "cell_type": "code",
   "execution_count": null,
   "id": "451a1282-c8f9-4768-85ed-92f3b28bb39c",
   "metadata": {},
   "outputs": [],
   "source": [
    "DAC_TILE = 0       # DAC Tile 228\n",
    "DAC_BLOCK = 0       # DAC Block 0\n",
    "DAC_SAMPLE_FREQUENCY = 4915.2  # MSps\n",
    "DAC_PLL_FREQUENCY = 491.52   # MHz\n",
    "DAC_FC = 0.0\n",
    "\n",
    "ol.initialise_dac(tile=DAC_TILE,\n",
    "                  block=DAC_BLOCK,\n",
    "                  pll_freq=DAC_PLL_FREQUENCY,\n",
    "                  fs=DAC_SAMPLE_FREQUENCY,\n",
    "                  fc=DAC_FC\n",
    "                 )"
   ]
  },
  {
   "cell_type": "markdown",
   "id": "1163ac84-7593-4ed6-9921-4689760a5892",
   "metadata": {},
   "source": [
    "### Enable Packet Generator\n",
    "The Netlayer IP requires a `tlast` signal to signify the end of a packet. Since the RF-ADC AXI-Stream signal does not contain a `tlast` we need to generate one ourselves using a packet generator IP. \n",
    "\n",
    "The following cell sets the size of a data packet to be sent over the network.\n",
    "To reach the maximum throughput of the system, jumbo Ethernet frames can be used but need to be enabled on all devices in the network. Maximum Transmission Unit (MTU) for Ethernet is typically 1500 bytes, but jumbo frames can reach payloads of up to 9000 bytes.\n",
    "\n",
    "The CMAC Tx interface is 512 bits (64 bytes) wide. Thus to enable jumbo frames set the packet size to 128. \n",
    "\n",
    "If jumbo frames are **not** available on your client then use a packet size of 16 instead."
   ]
  },
  {
   "cell_type": "code",
   "execution_count": null,
   "id": "aa798144-0606-4192-83d3-b0d555f572fd",
   "metadata": {},
   "outputs": [],
   "source": [
    "ol.packet_generator.packetsize = 128 # 128 * 64 bytes = 8192 bytes to be sent"
   ]
  },
  {
   "cell_type": "markdown",
   "id": "d453cc06-f2c1-4d54-b813-502ecab9d81e",
   "metadata": {},
   "source": [
    "Now we can enable the packet generator."
   ]
  },
  {
   "cell_type": "code",
   "execution_count": null,
   "id": "c9fcf22f-4ae6-436f-ac3e-338c378d3a77",
   "metadata": {},
   "outputs": [],
   "source": [
    "ol.packet_generator.enable()"
   ]
  },
  {
   "cell_type": "markdown",
   "id": "3da26d21-9ae4-47bd-a2dd-3cc26af88847",
   "metadata": {},
   "source": [
    "## 4. Receving RF Data\n",
    "For this demo we will be using GNU Radio running on a client PC to receive the signals captured by RF-ADC and plot a spectorgram utilizing the GPU accelerated gr-fosphor block. The following few cells will initialize a XMLRPC server in a seperate thread to allow GNU Radio to control the boards sampling rate and center frequency.\n",
    "\n",
    "Firstly, prepare the functions to be registered on the XMLRPC server:"
   ]
  },
  {
   "cell_type": "code",
   "execution_count": null,
   "id": "043ed21f-38ff-4ffa-84df-701b949f7dac",
   "metadata": {
    "tags": []
   },
   "outputs": [],
   "source": [
    "from rfsoc_qsfp_offload.xmlrpc_server import ServerThread\n",
    "from functools import partial\n",
    "\n",
    "set_fc = partial(ol.set_fc, ADC_TILE, ADC_BLOCK)\n",
    "set_fc.__name__=\"set_fc\"\n",
    "set_decimation = partial(ol.set_decimation, ADC_TILE, ADC_BLOCK)\n",
    "set_decimation.__name__=\"set_decimation\""
   ]
  },
  {
   "cell_type": "markdown",
   "id": "5c6efe76-34f5-4115-8471-d495e629ed93",
   "metadata": {},
   "source": [
    "Initiallize the XMLRPC server."
   ]
  },
  {
   "cell_type": "code",
   "execution_count": null,
   "id": "eb6e8aff-fd1b-4b73-8fb0-701a2818501a",
   "metadata": {
    "tags": []
   },
   "outputs": [],
   "source": [
    "server = ServerThread(set_fc, set_decimation)"
   ]
  },
  {
   "cell_type": "markdown",
   "id": "1eef9321-1ca1-4fc4-82ab-aae328aa353e",
   "metadata": {},
   "source": [
    "Start the XMLRPC server in a seperate thread to prevent it from blocking Jupyter cell execution."
   ]
  },
  {
   "cell_type": "code",
   "execution_count": null,
   "id": "fe7c50a3-b719-4000-8a03-a00357850267",
   "metadata": {},
   "outputs": [],
   "source": [
    "server.start()"
   ]
  },
  {
   "cell_type": "markdown",
   "id": "c9cbf16e-9785-44db-9b5a-d2e917938fcd",
   "metadata": {},
   "source": [
    "Now head over to your client PC and start GNU Radio. Open and start the udp2fosphor_xmlrpc.grc flow graph. If everything went well, you should be seing a real time spectrum display."
   ]
  },
  {
   "cell_type": "markdown",
   "id": "df8437a7-6eb9-424d-a114-8774d16e9e14",
   "metadata": {},
   "source": [
    "---\n",
    "\n",
    "<div class=\"alert alert-box alert-warning\">\n",
    "The following steps are required to be executed on the client.\n",
    "</div> \n"
   ]
  },
  {
   "cell_type": "markdown",
   "id": "5ff1c576-eba8-4c09-9192-38a586ca2911",
   "metadata": {},
   "source": [
    "## 5. Generating a Signal\n",
    "For this part of the demo we drive the RF-DAC as stimulus for the RF-ADC. We first generate a signal in this notebook and pass it to PS memory via an AXI DMA. The DMA is set up in Cyclic BD mode which allows the DMA to loop through the data in memory, sending it to the RF-DAC, with no further interaction required from the user.\n",
    "\n",
    "First we need to import the signal generator driver."
   ]
  },
  {
   "cell_type": "code",
   "execution_count": null,
   "id": "d01735ca-eeda-4da6-94d2-6ac48a478b15",
   "metadata": {},
   "outputs": [],
   "source": [
    "from rfsoc_offload import signal_generator"
   ]
  },
  {
   "cell_type": "markdown",
   "id": "e42f4f38-6049-465d-a378-34623b1e397d",
   "metadata": {},
   "source": [
    "The RF-DAC is set up with an output sample rate of 4915.2 Msps and 4x interpolation. This means that the signal we generate requires a sample rate of $f_{s DAC}/4$. \n",
    "\n",
    "Next we can generate a 81.6 MHz sine wave using the `signal_generator` module supplied with this design."
   ]
  },
  {
   "cell_type": "code",
   "execution_count": null,
   "id": "c33f96d9-2e45-4b18-a85f-17aa164208bc",
   "metadata": {},
   "outputs": [],
   "source": [
    "sin_data = signal_generator.sine(f=81.6e6, fs=DAC_SAMPLE_FREQUENCY*1e6/4)\n",
    "sin_data = signal_generator.convert_to_int16(sin_data)"
   ]
  },
  {
   "cell_type": "markdown",
   "id": "566997de-9ce2-463d-a392-8a0a553e5387",
   "metadata": {},
   "source": [
    "We can then use plotly to check the signal is correct."
   ]
  },
  {
   "cell_type": "code",
   "execution_count": null,
   "id": "51aa1417-1c83-4fa1-845c-f227a2b5cdf7",
   "metadata": {},
   "outputs": [],
   "source": [
    "import plotly.graph_objs as go\n",
    "go.FigureWidget(go.Scatter(y=sin_data[0:256]))"
   ]
  },
  {
   "cell_type": "markdown",
   "id": "2918e29f-b2d9-40c6-b3c2-c3acbe9a99a7",
   "metadata": {},
   "source": [
    "Since the RF-DAC uses the complex mixer, it expects an interleaved I/Q signal at its input. Since our sine wave is real only (i.e. only an I signal), we can interleave zero values as the Q inputs."
   ]
  },
  {
   "cell_type": "code",
   "execution_count": null,
   "id": "55383d0d-b233-4a8e-89ab-c8099e82eb39",
   "metadata": {},
   "outputs": [],
   "source": [
    "import numpy as np\n",
    "\n",
    "zero_data = np.zeros(sin_data.size, np.int16)\n",
    "interleaved = np.empty((sin_data.size + zero_data.size,), dtype=sin_data.dtype)\n",
    "interleaved[0::2] = sin_data\n",
    "interleaved[1::2] = zero_data"
   ]
  },
  {
   "cell_type": "markdown",
   "id": "1d7b4dc0-7cb1-43a1-bcb8-d99756fa9adf",
   "metadata": {},
   "source": [
    "Finally, we can transfer the generated sine wave to memory using the DMA."
   ]
  },
  {
   "cell_type": "code",
   "execution_count": null,
   "id": "2d06eee5-8b8d-4dd8-ab25-e70e1982e134",
   "metadata": {},
   "outputs": [],
   "source": [
    "from pynq import allocate\n",
    "\n",
    "tx_buffer = allocate(shape=(interleaved.size,), dtype=np.int16)\n",
    "tx_buffer[:] = interleaved\n",
    "ol.axi_dma_dac.sendchannel.transfer(tx_buffer, cyclic=True)"
   ]
  },
  {
   "cell_type": "markdown",
   "id": "f75dc9e2-213a-4a53-8f43-6000a8b23cf8",
   "metadata": {},
   "source": [
    "You should now be able to see the generated signal on the client notebook.\n",
    "\n",
    "<div class=\"alert alert-heading alert-danger\">\n",
    "    <b>Warning:</b> If you want to send additional data to the DMA it <b>must</b> be stopped before running the above cell again. Not doing so will hang the DMA and the board will require a power-cycle before it will be operational again. We show the code for the stop function in a few cells below.\n",
    "</div>"
   ]
  },
  {
   "cell_type": "markdown",
   "id": "a6ea573a-835e-422b-a371-0d82ee70d64e",
   "metadata": {},
   "source": [
    "### Frequency Sweep using the NCO\n",
    "\n",
    "We can use the RF-DAC NCO to sweep the sine wave across the spectrum. By running the next cell you should see the signal move incremently up the spectrum on the client notebook. This process will take approximately 10 seconds.\n",
    "\n",
    "You will notice that the signal changes from a single to a double tone in the spectrum. This is due to the carrier mixing with the sine wave in a process called Double Sideband Suppressed Carrier Amplitude Modulation (AM-DSB-SC)."
   ]
  },
  {
   "cell_type": "code",
   "execution_count": null,
   "id": "19c3ac6b-0d27-47ce-bd4c-d64a44ea1e34",
   "metadata": {},
   "outputs": [],
   "source": [
    "import time\n",
    "import xrfdc\n",
    "from tqdm.notebook import trange # progress bar\n",
    "\n",
    "f_start = 0 # MHz\n",
    "f_stop = 2000 # MHz\n",
    "for i in range(0, 5, 1):\n",
    "    for ii in trange(f_start, f_stop, 10):\n",
    "        ol.rfdc.dac_tiles[0].blocks[0].MixerSettings['Freq'] = ii\n",
    "        time.sleep(0.01)\n",
    "    \n",
    "    for ii in trange(f_stop, f_start, -10):\n",
    "        ol.rfdc.dac_tiles[0].blocks[0].MixerSettings['Freq'] = ii\n",
    "        time.sleep(0.01)\n",
    "\n",
    "# Set the NCO back to 0 Hz.\n",
    "ol.rfdc.dac_tiles[0].blocks[0].MixerSettings['Freq'] = 0"
   ]
  },
  {
   "cell_type": "markdown",
   "id": "604690fa-e252-4e49-9872-73e70f0fe8c1",
   "metadata": {},
   "source": [
    "### Shutdown the Packet Generator and DMA\n",
    "\n",
    "Make sure to stop the packet generator and DMA by running the cell below"
   ]
  },
  {
   "cell_type": "code",
   "execution_count": null,
   "id": "94646443-c02d-4531-b090-d77d025e2ab8",
   "metadata": {},
   "outputs": [],
   "source": [
    "ol.packet_generator.disable()\n",
    "ol.axi_dma_dac.sendchannel.stop()"
   ]
  },
  {
   "cell_type": "markdown",
   "id": "ca091d3e-ad7a-4dcf-b1b4-fe01e23152e8",
   "metadata": {},
   "source": [
    "---\n",
    "\n",
    "<div class=\"alert alert-box alert-warning\">\n",
    "The following steps are required to be executed on the client.\n",
    "</div> \n",
    "\n",
    "## 6. Stop Receiving Data\n",
    "\n",
    "Before going onto the next section, remember to stop grabbing data on the client first.\n",
    "\n",
    "---\n",
    "\n",
    "<div class=\"alert alert-box alert-success\">\n",
    "The following steps are to be executed on the board.\n",
    "</div> \n",
    "\n",
    "## 7. Sending Data From the PS\n",
    "\n",
    "We can also send data directly from the PS to the CMAC without the need for the RF-DAC.\n",
    "\n",
    "First we switch to the PS as the data source using the AXI-Stream Switch."
   ]
  },
  {
   "cell_type": "code",
   "execution_count": null,
   "id": "208bd71a-f69a-441d-86c9-4c250ef9a337",
   "metadata": {},
   "outputs": [],
   "source": [
    "ol.source_select(0) # 0 - DMA | 1 - RFDC"
   ]
  },
  {
   "cell_type": "markdown",
   "id": "50918999-ef8d-48fe-8afd-6ab4e163da5c",
   "metadata": {},
   "source": [
    "### Sending a Ramp Signal\n",
    "\n",
    "First we generate a simple ramp function using NumPy."
   ]
  },
  {
   "cell_type": "code",
   "execution_count": null,
   "id": "86cd3a4e-6556-4618-bee6-78a05c22a6cb",
   "metadata": {},
   "outputs": [],
   "source": [
    "data = np.arange(738, dtype=np.int16)"
   ]
  },
  {
   "cell_type": "markdown",
   "id": "95c21519-106d-4798-ac82-dcb16c88d8bc",
   "metadata": {},
   "source": [
    "We can then plot the ramp signal for inspection."
   ]
  },
  {
   "cell_type": "code",
   "execution_count": null,
   "id": "2e43b315-8af9-47b5-8f27-7d74dbeabae8",
   "metadata": {},
   "outputs": [],
   "source": [
    "import plotly.graph_objs as go\n",
    "go.FigureWidget(go.Scatter(y=data))"
   ]
  },
  {
   "cell_type": "markdown",
   "id": "cdcecf3c-d7a5-41aa-9ce8-7c6488715bb8",
   "metadata": {},
   "source": [
    "Finally we send it to the CMAC and network interface via a DMA transaction."
   ]
  },
  {
   "cell_type": "code",
   "execution_count": null,
   "id": "37d23128-0086-4920-b1d3-4e3438c5bf51",
   "metadata": {},
   "outputs": [],
   "source": [
    "out_buffer = allocate(shape=(len(data),), dtype=np.int16)\n",
    "out_buffer[:] = data\n",
    "\n",
    "ol.axi_dma_cmac.sendchannel.transfer(out_buffer)\n",
    "ol.axi_dma_cmac.sendchannel.wait()"
   ]
  },
  {
   "cell_type": "markdown",
   "id": "cff50f7c-0624-45af-8811-72e29f9d1898",
   "metadata": {},
   "source": [
    "Head over to the RFSoC QSFP offload client notebook to inspect the results."
   ]
  },
  {
   "cell_type": "markdown",
   "id": "b860cbb8-32ee-4450-b78d-fd517e537868",
   "metadata": {},
   "source": [
    "---\n",
    "\n",
    "<div class=\"alert alert-box alert-warning\">\n",
    "The following steps are required to be executed on the client.\n",
    "</div> \n",
    "\n",
    "## 8. Receving Data from the PS\n",
    "\n",
    "Finally, switch over to the RFSoC QSFP offload client notebook to receive and plot the ramp function."
   ]
  },
  {
   "cell_type": "markdown",
   "id": "b21c72c0-e5a4-4629-9a31-e921d069e2c2",
   "metadata": {},
   "source": [
    "---\n",
    "\n",
    "## Using GNU Radio\n",
    "\n",
    "We also supply a method of receving and visualising the data using GNU Radio. To do this please refer to the GNU Radio setup guide in the [GitHub repository](https://github.com/neutral-wireless/rfsoc_qsfp/tree/master/gnuradio).\n",
    "\n",
    "## Conclusion\n",
    "\n",
    "This notebook has presented the RFSoC offload design in action. It has shown:\n",
    "* The CMAC & networklayer IP configuration.\n",
    "* Send real time data aquired by the RF-ADC trough QSFP network interface.\n",
    "* Send data generated in PS over the QSFP network."
   ]
  }
 ],
 "metadata": {
  "kernelspec": {
   "display_name": "Python 3 (ipykernel)",
   "language": "python",
   "name": "python3"
  },
  "language_info": {
   "codemirror_mode": {
    "name": "ipython",
    "version": 3
   },
   "file_extension": ".py",
   "mimetype": "text/x-python",
   "name": "python",
   "nbconvert_exporter": "python",
   "pygments_lexer": "ipython3",
   "version": "3.10.4"
  }
 },
 "nbformat": 4,
 "nbformat_minor": 5
}
