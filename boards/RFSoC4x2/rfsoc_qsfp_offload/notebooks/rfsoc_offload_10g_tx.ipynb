{
 "cells": [
  {
   "cell_type": "markdown",
   "id": "53d5161b-28e9-4acc-83cf-70b89ac7aade",
   "metadata": {},
   "source": [
    "# RFSoC Offload Overlay 10G TX Example\n",
    "Load the QSFP offload overlay"
   ]
  },
  {
   "cell_type": "code",
   "execution_count": null,
   "id": "8ae921e0",
   "metadata": {},
   "outputs": [],
   "source": [
    "import time\n",
    "import sys\n",
    "from rfsoc_qsfp_offload.overlay import Overlay\n",
    "\n",
    "board_ip = '192.168.4.99'\n",
    "client_ip = '192.168.4.1'\n",
    "\n",
    "print(\"Initializing RFSoC QSFP Offload Overlay\")\n",
    "ol = Overlay(ignore_version=True)\n",
    "\n",
    "# Wait for overlay to initialize\n",
    "time.sleep(5) "
   ]
  },
  {
   "cell_type": "markdown",
   "id": "0c4cdb1c-14d7-4d6e-966e-0ad175762c5a",
   "metadata": {},
   "source": [
    "Configure the DAC"
   ]
  },
  {
   "cell_type": "code",
   "execution_count": null,
   "id": "451a1282-c8f9-4768-85ed-92f3b28bb39c",
   "metadata": {},
   "outputs": [],
   "source": [
    "DAC_TILE = 0       # DAC Tile 228\n",
    "DAC_BLOCK = 0       # DAC Block 0\n",
    "DAC_SAMPLE_FREQUENCY = 1024  # MSps\n",
    "DAC_PLL_FREQUENCY = 491.52   # MHz\n",
    "DAC_INTERP = 16 \n",
    "\n",
    "ol.initialise_dac(tile=DAC_TILE,\n",
    "                  block=DAC_BLOCK,\n",
    "                  pll_freq=DAC_PLL_FREQUENCY,\n",
    "                  fs=DAC_SAMPLE_FREQUENCY\n",
    "                 )\n",
    "\n",
    "ol.rfdc.dac_tiles[DAC_TILE].blocks[DAC_BLOCK].InterpolationFactor = DAC_INTERP"
   ]
  },
  {
   "cell_type": "markdown",
   "id": "e42f4f38-6049-465d-a378-34623b1e397d",
   "metadata": {},
   "source": [
    "The RF-DAC is set up with an output sample rate of 1024 Msps and 16x interpolation. This means that the signal we generate requires a sample rate of $f_{s DAC}/16$. \n",
    "\n",
    "Next we can generate a 64 MHz sine wave using the `signal_generator` module supplied with this design."
   ]
  },
  {
   "cell_type": "code",
   "execution_count": null,
   "id": "c33f96d9-2e45-4b18-a85f-17aa164208bc",
   "metadata": {},
   "outputs": [],
   "source": [
    "from rfsoc_offload import signal_generator\n",
    "\n",
    "sin_data = signal_generator.sine(f=64e6, fs=DAC_SAMPLE_FREQUENCY*1e6/4)\n",
    "sin_data = signal_generator.convert_to_int16(sin_data)\n",
    "import plotly.graph_objs as go\n",
    "go.FigureWidget(go.Scatter(y=sin_data[0:256]))"
   ]
  },
  {
   "cell_type": "markdown",
   "id": "ec6895b2",
   "metadata": {},
   "source": [
    "Create a Numpy array representing the interleaved I and Q components of the transmit signal and transfer to DMA"
   ]
  },
  {
   "cell_type": "code",
   "execution_count": null,
   "id": "55383d0d-b233-4a8e-89ab-c8099e82eb39",
   "metadata": {},
   "outputs": [],
   "source": [
    "import numpy as np\n",
    "from pynq import allocate\n",
    "\n",
    "zero_data = np.zeros(sin_data.size, np.int16)\n",
    "interleaved = np.empty((sin_data.size + zero_data.size,), dtype=sin_data.dtype)\n",
    "interleaved[0::2] = sin_data\n",
    "interleaved[1::2] = zero_data\n",
    "\n",
    "tx_buffer = allocate(shape=(interleaved.size,), dtype=np.int16)\n",
    "tx_buffer[:] = interleaved\n",
    "\n",
    "# Save buffer to file\n",
    "tx_file = open(\"tx_signal.bin\", mode='wb')\n",
    "tx_buffer.tofile(tx_file)\n",
    "\n",
    "ol.axi_dma_dac.sendchannel.transfer(tx_buffer, cyclic=True)"
   ]
  },
  {
   "cell_type": "markdown",
   "id": "41320ba2",
   "metadata": {},
   "source": [
    "### Set the frequency of the output Mixer for the DAC channel"
   ]
  },
  {
   "cell_type": "code",
   "execution_count": null,
   "id": "e886f9b8",
   "metadata": {},
   "outputs": [],
   "source": [
    "\n",
    "ol.rfdc.dac_tiles[0].blocks[0].MixerSettings['Freq'] = 0 # MHz"
   ]
  },
  {
   "cell_type": "markdown",
   "id": "ee4ced05",
   "metadata": {},
   "source": [
    "### Stop the DMA transfer"
   ]
  },
  {
   "cell_type": "code",
   "execution_count": null,
   "id": "94646443-c02d-4531-b090-d77d025e2ab8",
   "metadata": {},
   "outputs": [],
   "source": [
    "ol.axi_dma_dac.sendchannel.stop()"
   ]
  }
 ],
 "metadata": {
  "kernelspec": {
   "display_name": "Python 3 (ipykernel)",
   "language": "python",
   "name": "python3"
  },
  "language_info": {
   "codemirror_mode": {
    "name": "ipython",
    "version": 3
   },
   "file_extension": ".py",
   "mimetype": "text/x-python",
   "name": "python",
   "nbconvert_exporter": "python",
   "pygments_lexer": "ipython3",
   "version": "3.10.4"
  }
 },
 "nbformat": 4,
 "nbformat_minor": 5
}
